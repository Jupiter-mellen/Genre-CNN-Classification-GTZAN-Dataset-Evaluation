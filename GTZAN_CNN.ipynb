{
 "cells": [
  {
   "cell_type": "code",
   "execution_count": 2,
   "metadata": {},
   "outputs": [],
   "source": [
    "import json\n",
    "import numpy as np\n",
    "from sklearn.model_selection import train_test_split\n",
    "import tensorflow.keras as keras\n",
    "import librosa \n",
    "import math \n"
   ]
  },
  {
   "cell_type": "code",
   "execution_count": 6,
   "metadata": {},
   "outputs": [],
   "source": [
    "# path to json \n",
    "DATA_PATH = \"data_10.json\"\n",
    "\n",
    "def load_data(DATA_PATH):\n",
    "\n",
    "    with open(DATA_PATH, \"r\") as f:\n",
    "        data = json.load(f)\n",
    "\n",
    "    # convert lists to numpy arrays\n",
    "    x = np.array(data[\"mfcc\"])\n",
    "    y = np.array(data[\"labels\"])\n",
    "\n",
    "    print(\"Data succesfully loaded\")\n",
    "\n",
    "    return x, y\n"
   ]
  },
  {
   "cell_type": "code",
   "execution_count": 7,
   "metadata": {},
   "outputs": [
    {
     "name": "stdout",
     "output_type": "stream",
     "text": [
      "Data succesfully loaded\n"
     ]
    },
    {
     "data": {
      "text/plain": [
       "(9996, 130, 13)"
      ]
     },
     "execution_count": 7,
     "metadata": {},
     "output_type": "execute_result"
    }
   ],
   "source": [
    "# load data \n",
    "X, y = load_data(DATA_PATH)\n",
    "\n",
    "X.shape"
   ]
  },
  {
   "cell_type": "code",
   "execution_count": 10,
   "metadata": {},
   "outputs": [],
   "source": [
    "X_train, X_test, y_train, y_test = train_test_split(X, y ,test_size = 0.3)"
   ]
  },
  {
   "attachments": {},
   "cell_type": "markdown",
   "metadata": {},
   "source": [
    "# Simple ANN\n",
    "\n",
    "## Activation function:\n",
    "### relu fucntion:\n",
    "\"ReLU\" stands for \"Rectified Linear Unit\" and is a popular activation function used in deep learning models, including those built with Keras.\n",
    "The ReLU activation function is preferred over other activation functions such as sigmoid and tanh because it is computationally efficient and \n",
    "allows for faster convergence during training. It is also less prone to the vanishing gradient problem, which can occur when using sigmoid or \n",
    "tanh activation functions in deep neural networks.\n",
    "\n",
    "### softmax function\n",
    "The softmax activation function is a commonly used activation function in neural networks, particularly in the output layer of classification \n",
    "models. It converts a vector of arbitrary real values into a probability distribution, meaning that the sum of the outputs is equal to 1.0."
   ]
  },
  {
   "cell_type": "code",
   "execution_count": 13,
   "metadata": {},
   "outputs": [],
   "source": [
    " # building network topology \n",
    "model = keras.Sequential([\n",
    "\n",
    "    #input layer\n",
    "    keras.layers.Flatten(input_shape = (X.shape[1], X.shape[2])),\n",
    "\n",
    "    #1st dense layer\n",
    "    keras.layers.Dense(512, activation=\"relu\"),\n",
    "\n",
    "    #2nd dense layer\n",
    "    keras.layers.Dense(256, activation=\"relu\"),\n",
    "\n",
    "    #3nd dense layer\n",
    "    keras.layers.Dense(64, activation=\"relu\"),\n",
    "\n",
    "    #4nd dense layer\n",
    "    keras.layers.Dense(16, activation=\"softmax\")\n",
    "\n",
    "])"
   ]
  },
  {
   "attachments": {},
   "cell_type": "markdown",
   "metadata": {},
   "source": [
    "# Optimizer:\n",
    "Adam (Adaptive Moment Estimation) is a popular optimization algorithm used in deep learning models, including those built with Keras. The Adam optimizer combines the benefits of two other optimization algorithms: AdaGrad and RMSProp.\n",
    "The Adam optimizer adapts the learning rate for each parameter in the network based on the gradient of the loss function and a running estimate of the second moment of the gradients. This allows it to converge quickly and efficiently to a solution, especially for large and complex models.\n",
    "\n",
    "Adam also includes bias correction, which makes it more stable during early training stages. Additionally, it is less sensitive to hyperparameter choices than other optimization algorithms such as stochastic gradient descent (SGD).\n",
    "\n",
    "Overall, Adam is a good choice of optimizer for most deep learning applications and is often the default choice in Keras."
   ]
  },
  {
   "cell_type": "code",
   "execution_count": 20,
   "metadata": {},
   "outputs": [],
   "source": [
    "# compose model \n",
    "optimiser = keras.optimizers.Adam(learning_rate=0.0001)\n",
    "model.compile(\n",
    "    optimizer = optimiser,\n",
    "    loss = 'sparse_categorical_crossentropy',\n",
    "    metrics =['accuracy'] \n",
    ")"
   ]
  },
  {
   "cell_type": "code",
   "execution_count": 21,
   "metadata": {},
   "outputs": [
    {
     "name": "stdout",
     "output_type": "stream",
     "text": [
      "Model: \"sequential\"\n",
      "_________________________________________________________________\n",
      " Layer (type)                Output Shape              Param #   \n",
      "=================================================================\n",
      " flatten (Flatten)           (None, 1690)              0         \n",
      "                                                                 \n",
      " dense (Dense)               (None, 512)               865792    \n",
      "                                                                 \n",
      " dense_1 (Dense)             (None, 256)               131328    \n",
      "                                                                 \n",
      " dense_2 (Dense)             (None, 64)                16448     \n",
      "                                                                 \n",
      " dense_3 (Dense)             (None, 16)                1040      \n",
      "                                                                 \n",
      "=================================================================\n",
      "Total params: 1,014,608\n",
      "Trainable params: 1,014,608\n",
      "Non-trainable params: 0\n",
      "_________________________________________________________________\n"
     ]
    }
   ],
   "source": [
    "model.summary()"
   ]
  },
  {
   "cell_type": "code",
   "execution_count": 30,
   "metadata": {},
   "outputs": [
    {
     "name": "stdout",
     "output_type": "stream",
     "text": [
      "Epoch 1/50\n",
      "219/219 [==============================] - 3s 13ms/step - loss: 0.1418 - accuracy: 0.9557 - val_loss: 2.6739 - val_accuracy: 0.5889\n",
      "Epoch 2/50\n",
      "219/219 [==============================] - 3s 13ms/step - loss: 0.1006 - accuracy: 0.9650 - val_loss: 2.7829 - val_accuracy: 0.5922\n",
      "Epoch 3/50\n",
      "219/219 [==============================] - 3s 13ms/step - loss: 0.1198 - accuracy: 0.9614 - val_loss: 2.8838 - val_accuracy: 0.5989\n",
      "Epoch 4/50\n",
      "219/219 [==============================] - 3s 14ms/step - loss: 0.0815 - accuracy: 0.9707 - val_loss: 2.9306 - val_accuracy: 0.5959\n",
      "Epoch 5/50\n",
      "219/219 [==============================] - 3s 14ms/step - loss: 0.0732 - accuracy: 0.9746 - val_loss: 2.7907 - val_accuracy: 0.6002\n",
      "Epoch 6/50\n",
      "219/219 [==============================] - 3s 13ms/step - loss: 0.0741 - accuracy: 0.9747 - val_loss: 3.3047 - val_accuracy: 0.5809\n",
      "Epoch 7/50\n",
      "219/219 [==============================] - 3s 14ms/step - loss: 0.2281 - accuracy: 0.9225 - val_loss: 2.9927 - val_accuracy: 0.5649\n",
      "Epoch 8/50\n",
      "219/219 [==============================] - 3s 14ms/step - loss: 0.1011 - accuracy: 0.9656 - val_loss: 2.8374 - val_accuracy: 0.6002\n",
      "Epoch 9/50\n",
      "219/219 [==============================] - 3s 13ms/step - loss: 0.0562 - accuracy: 0.9806 - val_loss: 2.9933 - val_accuracy: 0.6075\n",
      "Epoch 10/50\n",
      "219/219 [==============================] - 3s 13ms/step - loss: 0.0934 - accuracy: 0.9703 - val_loss: 3.1842 - val_accuracy: 0.5722\n",
      "Epoch 11/50\n",
      "219/219 [==============================] - 3s 13ms/step - loss: 0.1545 - accuracy: 0.9516 - val_loss: 2.8101 - val_accuracy: 0.6029\n",
      "Epoch 12/50\n",
      "219/219 [==============================] - 3s 13ms/step - loss: 0.0531 - accuracy: 0.9847 - val_loss: 3.0002 - val_accuracy: 0.6129\n",
      "Epoch 13/50\n",
      "219/219 [==============================] - 3s 13ms/step - loss: 0.0233 - accuracy: 0.9931 - val_loss: 3.0134 - val_accuracy: 0.6125\n",
      "Epoch 14/50\n",
      "219/219 [==============================] - 3s 13ms/step - loss: 0.0169 - accuracy: 0.9944 - val_loss: 3.0205 - val_accuracy: 0.6052\n",
      "Epoch 15/50\n",
      "219/219 [==============================] - 3s 14ms/step - loss: 0.0106 - accuracy: 0.9974 - val_loss: 3.0410 - val_accuracy: 0.6209\n",
      "Epoch 16/50\n",
      "219/219 [==============================] - 3s 13ms/step - loss: 0.0114 - accuracy: 0.9970 - val_loss: 3.2895 - val_accuracy: 0.5982\n",
      "Epoch 17/50\n",
      "219/219 [==============================] - 3s 13ms/step - loss: 0.4083 - accuracy: 0.8818 - val_loss: 2.8762 - val_accuracy: 0.5662\n",
      "Epoch 18/50\n",
      "219/219 [==============================] - 3s 13ms/step - loss: 0.1912 - accuracy: 0.9357 - val_loss: 2.9896 - val_accuracy: 0.5729\n",
      "Epoch 19/50\n",
      "219/219 [==============================] - 3s 13ms/step - loss: 0.0675 - accuracy: 0.9787 - val_loss: 2.8875 - val_accuracy: 0.6132\n",
      "Epoch 20/50\n",
      "219/219 [==============================] - 3s 13ms/step - loss: 0.0329 - accuracy: 0.9914 - val_loss: 2.9692 - val_accuracy: 0.6085\n",
      "Epoch 21/50\n",
      "219/219 [==============================] - 3s 13ms/step - loss: 0.0296 - accuracy: 0.9910 - val_loss: 3.1798 - val_accuracy: 0.5919\n",
      "Epoch 22/50\n",
      "219/219 [==============================] - 3s 13ms/step - loss: 0.0489 - accuracy: 0.9843 - val_loss: 3.1742 - val_accuracy: 0.6042\n",
      "Epoch 23/50\n",
      "219/219 [==============================] - 3s 14ms/step - loss: 0.1554 - accuracy: 0.9488 - val_loss: 3.1815 - val_accuracy: 0.5649\n",
      "Epoch 24/50\n",
      "219/219 [==============================] - 3s 13ms/step - loss: 0.1152 - accuracy: 0.9610 - val_loss: 3.0640 - val_accuracy: 0.6042\n",
      "Epoch 25/50\n",
      "219/219 [==============================] - 3s 14ms/step - loss: 0.0454 - accuracy: 0.9857 - val_loss: 3.1064 - val_accuracy: 0.6082\n",
      "Epoch 26/50\n",
      "219/219 [==============================] - 3s 13ms/step - loss: 0.0379 - accuracy: 0.9903 - val_loss: 3.0553 - val_accuracy: 0.6165\n",
      "Epoch 27/50\n",
      "219/219 [==============================] - 3s 13ms/step - loss: 0.1787 - accuracy: 0.9427 - val_loss: 3.0083 - val_accuracy: 0.5675\n",
      "Epoch 28/50\n",
      "219/219 [==============================] - 3s 13ms/step - loss: 0.1195 - accuracy: 0.9604 - val_loss: 3.0297 - val_accuracy: 0.6072\n",
      "Epoch 29/50\n",
      "219/219 [==============================] - 3s 13ms/step - loss: 0.0262 - accuracy: 0.9924 - val_loss: 3.2522 - val_accuracy: 0.6015\n",
      "Epoch 30/50\n",
      "219/219 [==============================] - 3s 13ms/step - loss: 0.0437 - accuracy: 0.9866 - val_loss: 3.1488 - val_accuracy: 0.6092\n",
      "Epoch 31/50\n",
      "219/219 [==============================] - 3s 13ms/step - loss: 0.0402 - accuracy: 0.9861 - val_loss: 3.2507 - val_accuracy: 0.6155\n",
      "Epoch 32/50\n",
      "219/219 [==============================] - 3s 14ms/step - loss: 0.0208 - accuracy: 0.9950 - val_loss: 3.1392 - val_accuracy: 0.6249\n",
      "Epoch 33/50\n",
      "219/219 [==============================] - 3s 13ms/step - loss: 0.0384 - accuracy: 0.9860 - val_loss: 3.1300 - val_accuracy: 0.6099\n",
      "Epoch 34/50\n",
      "219/219 [==============================] - 3s 13ms/step - loss: 0.1882 - accuracy: 0.9375 - val_loss: 3.2737 - val_accuracy: 0.6065\n",
      "Epoch 35/50\n",
      "219/219 [==============================] - 3s 13ms/step - loss: 0.1083 - accuracy: 0.9670 - val_loss: 3.0877 - val_accuracy: 0.6102\n",
      "Epoch 36/50\n",
      "219/219 [==============================] - 3s 13ms/step - loss: 0.0712 - accuracy: 0.9771 - val_loss: 3.1115 - val_accuracy: 0.6115\n",
      "Epoch 37/50\n",
      "219/219 [==============================] - 3s 13ms/step - loss: 0.0221 - accuracy: 0.9937 - val_loss: 3.2532 - val_accuracy: 0.6102\n",
      "Epoch 38/50\n",
      "219/219 [==============================] - 3s 13ms/step - loss: 0.0225 - accuracy: 0.9931 - val_loss: 3.1521 - val_accuracy: 0.6252\n",
      "Epoch 39/50\n",
      "219/219 [==============================] - 3s 13ms/step - loss: 0.0371 - accuracy: 0.9893 - val_loss: 3.3798 - val_accuracy: 0.5915\n",
      "Epoch 40/50\n",
      "219/219 [==============================] - 3s 13ms/step - loss: 0.1575 - accuracy: 0.9521 - val_loss: 3.1723 - val_accuracy: 0.6052\n",
      "Epoch 41/50\n",
      "219/219 [==============================] - 3s 14ms/step - loss: 0.0531 - accuracy: 0.9818 - val_loss: 3.3763 - val_accuracy: 0.6065\n",
      "Epoch 42/50\n",
      "219/219 [==============================] - 3s 13ms/step - loss: 0.0316 - accuracy: 0.9899 - val_loss: 3.5641 - val_accuracy: 0.6095\n",
      "Epoch 43/50\n",
      "219/219 [==============================] - 3s 13ms/step - loss: 0.0680 - accuracy: 0.9790 - val_loss: 3.2340 - val_accuracy: 0.5875\n",
      "Epoch 44/50\n",
      "219/219 [==============================] - 3s 13ms/step - loss: 0.0934 - accuracy: 0.9691 - val_loss: 3.4075 - val_accuracy: 0.6035\n",
      "Epoch 45/50\n",
      "219/219 [==============================] - 3s 13ms/step - loss: 0.0377 - accuracy: 0.9869 - val_loss: 3.2350 - val_accuracy: 0.6245\n",
      "Epoch 46/50\n",
      "219/219 [==============================] - 3s 13ms/step - loss: 0.0187 - accuracy: 0.9944 - val_loss: 3.1392 - val_accuracy: 0.6229\n",
      "Epoch 47/50\n",
      "219/219 [==============================] - 3s 13ms/step - loss: 0.0055 - accuracy: 0.9984 - val_loss: 3.1982 - val_accuracy: 0.6355\n",
      "Epoch 48/50\n",
      "219/219 [==============================] - 3s 13ms/step - loss: 0.0047 - accuracy: 0.9983 - val_loss: 3.2179 - val_accuracy: 0.6379\n",
      "Epoch 49/50\n",
      "219/219 [==============================] - 3s 14ms/step - loss: 0.0049 - accuracy: 0.9984 - val_loss: 3.2592 - val_accuracy: 0.6395\n",
      "Epoch 50/50\n",
      "219/219 [==============================] - 3s 13ms/step - loss: 0.0036 - accuracy: 0.9991 - val_loss: 3.3739 - val_accuracy: 0.6399\n"
     ]
    }
   ],
   "source": [
    "# train model\n",
    "\n",
    "history = model.fit(X_train, y_train, validation_data=(X_test, y_test), batch_size=32, epochs=50)"
   ]
  },
  {
   "cell_type": "code",
   "execution_count": 31,
   "metadata": {},
   "outputs": [],
   "source": [
    "import matplotlib.pyplot as plt\n",
    "\n",
    "\n",
    "def plot_history(h):\n",
    "\n",
    "    fig, axs = plt.subplots(2)\n",
    "\n",
    "    #create accuracy subplot\n",
    "    axs[0].plot(h.history[\"accuracy\"], label = \"train accuarcy\")\n",
    "    axs[0].plot(h.history[\"val_accuracy\"], label = \"test accuarcy\")\n",
    "    axs[0].set_ylabel(\"Accuracy\")\n",
    "    axs[0].legend(loc=\"lower right\")\n",
    "    axs[0].set_title(\"Accuracy level\")\n",
    "\n",
    "    #create error subplot \n",
    "    axs[1].plot(h.history[\"loss\"], label = \"train error\")\n",
    "    axs[1].plot(h.history[\"val_loss\"], label = \"test error\")\n",
    "    axs[1].set_ylabel(\"Error\")\n",
    "    axs[1].set_xlabel(\"Epoch\")\n",
    "    axs[1].legend(loc=\"upper right\")\n",
    "    axs[1].set_title(\"Error eval\")\n",
    "\n",
    "    plt.show()\n",
    "\n"
   ]
  },
  {
   "cell_type": "code",
   "execution_count": 32,
   "metadata": {},
   "outputs": [
    {
     "data": {
      "image/png": "[encoded data removed]",
      "text/plain": [
       "<Figure size 640x480 with 2 Axes>"
      ]
     },
     "metadata": {},
     "output_type": "display_data"
    }
   ],
   "source": [
    "plot_history(history)"
   ]
  },
  {
   "attachments": {},
   "cell_type": "markdown",
   "metadata": {},
   "source": [
    "# Managing Overfitting:"
   ]
  },
  {
   "cell_type": "code",
   "execution_count": null,
   "metadata": {},
   "outputs": [],
   "source": [
    "print(\"test commit\")"
   ]
  }
 ],
 "metadata": {
  "kernelspec": {
   "display_name": "Python 3",
   "language": "python",
   "name": "python3"
  },
  "language_info": {
   "codemirror_mode": {
    "name": "ipython",
    "version": 3
   },
   "file_extension": ".py",
   "mimetype": "text/x-python",
   "name": "python",
   "nbconvert_exporter": "python",
   "pygments_lexer": "ipython3",
   "version": "3.10.10"
  },
  "orig_nbformat": 4,
  "vscode": {
   "interpreter": {
    "hash": "43afbf7b8c92a6397086dae0be21e5b6ecbdfbb1f0b6983c22cfbb740a73e7f5"
   }
  }
 },
 "nbformat": 4,
 "nbformat_minor": 2
}
